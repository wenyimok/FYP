{
  "cells": [
    {
      "cell_type": "markdown",
      "metadata": {
        "id": "7mGmQbAO5pQb"
      },
      "source": [
        "# Setup"
      ]
    },
    {
      "cell_type": "code",
      "execution_count": 1,
      "metadata": {
        "colab": {
          "base_uri": "https://localhost:8080/"
        },
        "id": "I3bQCsNWaJiM",
        "outputId": "1bb176b1-9cea-45d5-b949-7af7915f099e"
      },
      "outputs": [
        {
          "ename": "ModuleNotFoundError",
          "evalue": "No module named 'google'",
          "output_type": "error",
          "traceback": [
            "\u001b[1;31m---------------------------------------------------------------------------\u001b[0m",
            "\u001b[1;31mModuleNotFoundError\u001b[0m                       Traceback (most recent call last)",
            "Cell \u001b[1;32mIn[1], line 2\u001b[0m\n\u001b[0;32m      1\u001b[0m \u001b[38;5;66;03m# Mount Google drive\u001b[39;00m\n\u001b[1;32m----> 2\u001b[0m \u001b[38;5;28;01mfrom\u001b[39;00m \u001b[38;5;21;01mgoogle\u001b[39;00m\u001b[38;5;21;01m.\u001b[39;00m\u001b[38;5;21;01mcolab\u001b[39;00m \u001b[38;5;28;01mimport\u001b[39;00m drive\n\u001b[0;32m      3\u001b[0m drive\u001b[38;5;241m.\u001b[39mmount(\u001b[38;5;124m'\u001b[39m\u001b[38;5;124m/content/drive/\u001b[39m\u001b[38;5;124m'\u001b[39m)\n",
            "\u001b[1;31mModuleNotFoundError\u001b[0m: No module named 'google'"
          ]
        }
      ],
      "source": [
        "# Mount Google drive\n",
        "from google.colab import drive\n",
        "drive.mount('/content/drive/')"
      ]
    },
    {
      "cell_type": "code",
      "execution_count": 2,
      "metadata": {
        "colab": {
          "base_uri": "https://localhost:8080/"
        },
        "id": "wbvMlHd_QwMG",
        "outputId": "8837392b-c614-46cf-fe6f-35975937aad4"
      },
      "outputs": [
        {
          "name": "stdout",
          "output_type": "stream",
          "text": [
            "Ultralytics YOLOv8.1.35 🚀 Python-3.11.8 torch-2.2.1+cpu CPU (Intel Core(TM) i5-8300H 2.30GHz)\n",
            "Setup complete ✅ (8 CPUs, 15.9 GB RAM, 702.6/931.5 GB disk)\n"
          ]
        }
      ],
      "source": [
        "# Install dependencies for YOLOv8\n",
        "\n",
        "import ultralytics\n",
        "ultralytics.checks()"
      ]
    },
    {
      "cell_type": "markdown",
      "metadata": {
        "id": "4JnkELT0cIJg"
      },
      "source": [
        "# 1. Train\n"
      ]
    },
    {
      "cell_type": "code",
      "execution_count": null,
      "metadata": {
        "colab": {
          "base_uri": "https://localhost:8080/"
        },
        "id": "rPM8HO4nNKyb",
        "outputId": "4f5f3f52-8cac-485b-da4f-a3581c6495b0"
      },
      "outputs": [
        {
          "name": "stdout",
          "output_type": "stream",
          "text": [
            "Requirement already satisfied: roboflow in /usr/local/lib/python3.10/dist-packages (1.1.15)\n",
            "Requirement already satisfied: certifi==2023.7.22 in /usr/local/lib/python3.10/dist-packages (from roboflow) (2023.7.22)\n",
            "Requirement already satisfied: chardet==4.0.0 in /usr/local/lib/python3.10/dist-packages (from roboflow) (4.0.0)\n",
            "Requirement already satisfied: cycler==0.10.0 in /usr/local/lib/python3.10/dist-packages (from roboflow) (0.10.0)\n",
            "Requirement already satisfied: idna==2.10 in /usr/local/lib/python3.10/dist-packages (from roboflow) (2.10)\n",
            "Requirement already satisfied: kiwisolver>=1.3.1 in /usr/local/lib/python3.10/dist-packages (from roboflow) (1.4.5)\n",
            "Requirement already satisfied: matplotlib in /usr/local/lib/python3.10/dist-packages (from roboflow) (3.7.1)\n",
            "Requirement already satisfied: numpy>=1.18.5 in /usr/local/lib/python3.10/dist-packages (from roboflow) (1.23.5)\n",
            "Requirement already satisfied: opencv-python-headless==4.8.0.74 in /usr/local/lib/python3.10/dist-packages (from roboflow) (4.8.0.74)\n",
            "Requirement already satisfied: Pillow>=7.1.2 in /usr/local/lib/python3.10/dist-packages (from roboflow) (9.4.0)\n",
            "Requirement already satisfied: pyparsing==2.4.7 in /usr/local/lib/python3.10/dist-packages (from roboflow) (2.4.7)\n",
            "Requirement already satisfied: python-dateutil in /usr/local/lib/python3.10/dist-packages (from roboflow) (2.8.2)\n",
            "Requirement already satisfied: python-dotenv in /usr/local/lib/python3.10/dist-packages (from roboflow) (1.0.0)\n",
            "Requirement already satisfied: requests in /usr/local/lib/python3.10/dist-packages (from roboflow) (2.31.0)\n",
            "Requirement already satisfied: six in /usr/local/lib/python3.10/dist-packages (from roboflow) (1.16.0)\n",
            "Requirement already satisfied: supervision in /usr/local/lib/python3.10/dist-packages (from roboflow) (0.17.1)\n",
            "Requirement already satisfied: urllib3>=1.26.6 in /usr/local/lib/python3.10/dist-packages (from roboflow) (2.0.7)\n",
            "Requirement already satisfied: tqdm>=4.41.0 in /usr/local/lib/python3.10/dist-packages (from roboflow) (4.66.1)\n",
            "Requirement already satisfied: PyYAML>=5.3.1 in /usr/local/lib/python3.10/dist-packages (from roboflow) (6.0.1)\n",
            "Requirement already satisfied: requests-toolbelt in /usr/local/lib/python3.10/dist-packages (from roboflow) (1.0.0)\n",
            "Requirement already satisfied: python-magic in /usr/local/lib/python3.10/dist-packages (from roboflow) (0.4.27)\n",
            "Requirement already satisfied: contourpy>=1.0.1 in /usr/local/lib/python3.10/dist-packages (from matplotlib->roboflow) (1.2.0)\n",
            "Requirement already satisfied: fonttools>=4.22.0 in /usr/local/lib/python3.10/dist-packages (from matplotlib->roboflow) (4.47.0)\n",
            "Requirement already satisfied: packaging>=20.0 in /usr/local/lib/python3.10/dist-packages (from matplotlib->roboflow) (23.2)\n",
            "Requirement already satisfied: charset-normalizer<4,>=2 in /usr/local/lib/python3.10/dist-packages (from requests->roboflow) (3.3.2)\n",
            "Requirement already satisfied: scipy>=1.9.0 in /usr/local/lib/python3.10/dist-packages (from supervision->roboflow) (1.11.4)\n",
            "loading Roboflow workspace...\n",
            "loading Roboflow project...\n",
            "Dependency ultralytics==8.0.196 is required but found version=8.0.237, to fix: `pip install ultralytics==8.0.196`\n"
          ]
        },
        {
          "name": "stderr",
          "output_type": "stream",
          "text": [
            "Downloading Dataset Version Zip in fyp1-trial-18images-2 to yolov8:: 100%|██████████| 3294/3294 [00:00<00:00, 51073.09it/s]"
          ]
        },
        {
          "name": "stdout",
          "output_type": "stream",
          "text": [
            "\n"
          ]
        },
        {
          "name": "stderr",
          "output_type": "stream",
          "text": [
            "\n",
            "Extracting Dataset Version Zip to fyp1-trial-18images-2 in yolov8:: 100%|██████████| 96/96 [00:00<00:00, 5650.80it/s]\n"
          ]
        }
      ],
      "source": [
        "# Retrieve data from Roboflow by importing Roboflow\n",
        "%pip install roboflow\n",
        "\n",
        "from roboflow import Roboflow\n",
        "rf = Roboflow(api_key=\"EGjJyoAzAEnbdrfjHrzA\")\n",
        "project = rf.workspace(\"wenyi\").project(\"fyp1-trial-18images\")\n",
        "dataset = project.version(2).download(\"yolov8\")\n"
      ]
    },
    {
      "cell_type": "code",
      "execution_count": 3,
      "metadata": {},
      "outputs": [
        {
          "name": "stdout",
          "output_type": "stream",
          "text": [
            "Requirement already satisfied: roboflow in d:\\git-mine(dontinit)\\a-fyp\\fyp_env\\lib\\site-packages (1.1.26)Note: you may need to restart the kernel to use updated packages.\n",
            "\n",
            "Requirement already satisfied: certifi==2023.7.22 in d:\\git-mine(dontinit)\\a-fyp\\fyp_env\\lib\\site-packages (from roboflow) (2023.7.22)\n",
            "Requirement already satisfied: chardet==4.0.0 in d:\\git-mine(dontinit)\\a-fyp\\fyp_env\\lib\\site-packages (from roboflow) (4.0.0)\n",
            "Requirement already satisfied: cycler==0.10.0 in d:\\git-mine(dontinit)\\a-fyp\\fyp_env\\lib\\site-packages (from roboflow) (0.10.0)\n",
            "Requirement already satisfied: idna==2.10 in d:\\git-mine(dontinit)\\a-fyp\\fyp_env\\lib\\site-packages (from roboflow) (2.10)\n",
            "Requirement already satisfied: kiwisolver>=1.3.1 in d:\\git-mine(dontinit)\\a-fyp\\fyp_env\\lib\\site-packages (from roboflow) (1.4.5)\n",
            "Requirement already satisfied: matplotlib in d:\\git-mine(dontinit)\\a-fyp\\fyp_env\\lib\\site-packages (from roboflow) (3.8.3)\n",
            "Requirement already satisfied: numpy>=1.18.5 in d:\\git-mine(dontinit)\\a-fyp\\fyp_env\\lib\\site-packages (from roboflow) (1.26.4)\n",
            "Requirement already satisfied: opencv-python-headless==4.8.0.74 in d:\\git-mine(dontinit)\\a-fyp\\fyp_env\\lib\\site-packages (from roboflow) (4.8.0.74)\n",
            "Requirement already satisfied: Pillow>=7.1.2 in d:\\git-mine(dontinit)\\a-fyp\\fyp_env\\lib\\site-packages (from roboflow) (10.2.0)\n",
            "Requirement already satisfied: python-dateutil in d:\\git-mine(dontinit)\\a-fyp\\fyp_env\\lib\\site-packages (from roboflow) (2.9.0.post0)\n",
            "Requirement already satisfied: python-dotenv in d:\\git-mine(dontinit)\\a-fyp\\fyp_env\\lib\\site-packages (from roboflow) (1.0.1)\n",
            "Requirement already satisfied: requests in d:\\git-mine(dontinit)\\a-fyp\\fyp_env\\lib\\site-packages (from roboflow) (2.31.0)\n",
            "Requirement already satisfied: six in d:\\git-mine(dontinit)\\a-fyp\\fyp_env\\lib\\site-packages (from roboflow) (1.16.0)\n",
            "Requirement already satisfied: urllib3>=1.26.6 in d:\\git-mine(dontinit)\\a-fyp\\fyp_env\\lib\\site-packages (from roboflow) (2.2.1)\n",
            "Requirement already satisfied: tqdm>=4.41.0 in d:\\git-mine(dontinit)\\a-fyp\\fyp_env\\lib\\site-packages (from roboflow) (4.66.2)\n",
            "Requirement already satisfied: PyYAML>=5.3.1 in d:\\git-mine(dontinit)\\a-fyp\\fyp_env\\lib\\site-packages (from roboflow) (6.0.1)\n",
            "Requirement already satisfied: requests-toolbelt in d:\\git-mine(dontinit)\\a-fyp\\fyp_env\\lib\\site-packages (from roboflow) (1.0.0)\n",
            "Requirement already satisfied: python-magic in d:\\git-mine(dontinit)\\a-fyp\\fyp_env\\lib\\site-packages (from roboflow) (0.4.27)\n",
            "Requirement already satisfied: colorama in d:\\git-mine(dontinit)\\a-fyp\\fyp_env\\lib\\site-packages (from tqdm>=4.41.0->roboflow) (0.4.6)\n",
            "Requirement already satisfied: contourpy>=1.0.1 in d:\\git-mine(dontinit)\\a-fyp\\fyp_env\\lib\\site-packages (from matplotlib->roboflow) (1.2.0)\n",
            "Requirement already satisfied: fonttools>=4.22.0 in d:\\git-mine(dontinit)\\a-fyp\\fyp_env\\lib\\site-packages (from matplotlib->roboflow) (4.50.0)\n",
            "Requirement already satisfied: packaging>=20.0 in d:\\git-mine(dontinit)\\a-fyp\\fyp_env\\lib\\site-packages (from matplotlib->roboflow) (24.0)\n",
            "Requirement already satisfied: pyparsing>=2.3.1 in d:\\git-mine(dontinit)\\a-fyp\\fyp_env\\lib\\site-packages (from matplotlib->roboflow) (3.1.2)\n",
            "Requirement already satisfied: charset-normalizer<4,>=2 in d:\\git-mine(dontinit)\\a-fyp\\fyp_env\\lib\\site-packages (from requests->roboflow) (3.3.2)\n",
            "loading Roboflow workspace...\n",
            "loading Roboflow project...\n",
            "Dependency ultralytics==8.0.196 is required but found version=8.1.35, to fix: `pip install ultralytics==8.0.196`\n"
          ]
        }
      ],
      "source": [
        "## New\n",
        "\n",
        "%pip install roboflow\n",
        "\n",
        "from roboflow import Roboflow\n",
        "rf = Roboflow(api_key=\"EGjJyoAzAEnbdrfjHrzA\")\n",
        "project = rf.workspace(\"wenyi\").project(\"fyp-data-objectdetect-20240226\")\n",
        "version = project.version(3)\n",
        "dataset = version.download(\"yolov8\")\n",
        "\n"
      ]
    },
    {
      "cell_type": "code",
      "execution_count": 2,
      "metadata": {
        "colab": {
          "base_uri": "https://localhost:8080/"
        },
        "id": "1NcFxRcFdJ_O",
        "outputId": "34736827-37d7-4618-b331-15f490bc28e0"
      },
      "outputs": [
        {
          "name": "stdout",
          "output_type": "stream",
          "text": [
            "^C\n"
          ]
        }
      ],
      "source": [
        "# Train YOLOv8n on data for 100 epochs\n",
        "!yolo train model=yolov8m.pt data=\"D:/GIT-Mine(DONTINIT)/A-FYP/moktrial2/FYP-Data-ObjectDetect-20240226-3/data.yaml\" epochs=100  imgsz=640\n",
        "\n"
      ]
    },
    {
      "cell_type": "markdown",
      "metadata": {
        "id": "0eq1SMWl6Sfn"
      },
      "source": [
        "# 2. Validate\n"
      ]
    },
    {
      "cell_type": "code",
      "execution_count": null,
      "metadata": {
        "colab": {
          "base_uri": "https://localhost:8080/"
        },
        "id": "X58w8JLpMnjH",
        "outputId": "88eb5e7e-1d7e-499f-fdc5-5e81895543c5"
      },
      "outputs": [
        {
          "name": "stdout",
          "output_type": "stream",
          "text": [
            "Ultralytics YOLOv8.0.237 🚀 Python-3.10.12 torch-2.1.0+cu121 CUDA:0 (Tesla T4, 15102MiB)\n",
            "Model summary (fused): 168 layers, 3006038 parameters, 0 gradients, 8.1 GFLOPs\n",
            "\u001b[34m\u001b[1mval: \u001b[0mScanning /content/fyp1-trial-18images-2/valid/labels.cache... 3 images, 0 backgrounds, 0 corrupt: 100% 3/3 [00:00<?, ?it/s]\n",
            "                 Class     Images  Instances      Box(P          R      mAP50  mAP50-95): 100% 1/1 [00:00<00:00,  1.39it/s]\n",
            "                   all          3          3      0.933          1      0.995      0.696\n",
            "                cracks          3          2      0.951          1      0.995      0.697\n",
            "              potholes          3          1      0.915          1      0.995      0.697\n",
            "Speed: 0.3ms preprocess, 39.8ms inference, 0.0ms loss, 174.4ms postprocess per image\n",
            "Results saved to \u001b[1mruns/detect/val\u001b[0m\n",
            "💡 Learn more at https://docs.ultralytics.com/modes/val\n"
          ]
        }
      ],
      "source": [
        "# Validate on val\n",
        "!yolo val model=/content/runs/detect/train2/weights/best.pt data=/content/fyp1-trial-18images-2/data.yaml"
      ]
    },
    {
      "cell_type": "markdown",
      "metadata": {
        "id": "ZY2VXXXu74w5"
      },
      "source": [
        "# 3. Predict"
      ]
    },
    {
      "cell_type": "code",
      "execution_count": null,
      "metadata": {
        "colab": {
          "base_uri": "https://localhost:8080/"
        },
        "id": "zR9ZbuQCH7FX",
        "outputId": "7277689a-fc76-4bc2-aee0-c535b6c05548"
      },
      "outputs": [
        {
          "name": "stdout",
          "output_type": "stream",
          "text": [
            "Ultralytics YOLOv8.0.237 🚀 Python-3.10.12 torch-2.1.0+cu121 CUDA:0 (Tesla T4, 15102MiB)\n",
            "Model summary (fused): 168 layers, 3006038 parameters, 0 gradients, 8.1 GFLOPs\n",
            "\n",
            "image 1/1 /content/fyp1-trial-18images-2/test/images/20220816_07_24_04_022_000_hnEYwZk1I5RsPJ0KVT40Wir0BSh1_F_4160_3120-1-_jpg.rf.799b34112e39af227fecd7007ce9cc4e.jpg: 640x640 1 potholes, 9.5ms\n",
            "Speed: 2.8ms preprocess, 9.5ms inference, 557.9ms postprocess per image at shape (1, 3, 640, 640)\n",
            "Results saved to \u001b[1mruns/detect/predict2\u001b[0m\n",
            "💡 Learn more at https://docs.ultralytics.com/modes/predict\n"
          ]
        }
      ],
      "source": [
        "# Run inference on an image with trained YOLOv8n\n",
        "!yolo predict conf=0.5 model=/content/drive/MyDrive/AAAFYP/PreliminaryResults/Train100epochs/train2/weights/best.pt source='/content/fyp1-trial-18images-2/test/images/20220816_07_24_04_022_000_hnEYwZk1I5RsPJ0KVT40Wir0BSh1_F_4160_3120-1-_jpg.rf.799b34112e39af227fecd7007ce9cc4e.jpg'"
      ]
    },
    {
      "cell_type": "markdown",
      "metadata": {
        "id": "nPZZeNrLCQG6"
      },
      "source": [
        "# 4. Export"
      ]
    },
    {
      "cell_type": "code",
      "execution_count": null,
      "metadata": {
        "colab": {
          "base_uri": "https://localhost:8080/"
        },
        "id": "CYIjW4igCjqD",
        "outputId": "2b65e381-717b-4a6f-d6f5-5254c867f3a4"
      },
      "outputs": [
        {
          "name": "stdout",
          "output_type": "stream",
          "text": [
            "Ultralytics YOLOv8.0.145 🚀 Python-3.10.6 torch-2.0.1+cu118 CPU (Intel Xeon 2.30GHz)\n",
            "YOLOv8n summary (fused): 168 layers, 3151904 parameters, 0 gradients\n",
            "\n",
            "\u001b[34m\u001b[1mPyTorch:\u001b[0m starting from 'yolov8n.pt' with input shape (1, 3, 640, 640) BCHW and output shape(s) (1, 84, 8400) (6.2 MB)\n",
            "\n",
            "\u001b[34m\u001b[1mTorchScript:\u001b[0m starting export with torch 2.0.1+cu118...\n",
            "\u001b[34m\u001b[1mTorchScript:\u001b[0m export success ✅ 2.8s, saved as 'yolov8n.torchscript' (12.4 MB)\n",
            "\n",
            "Export complete (4.6s)\n",
            "Results saved to \u001b[1m/content\u001b[0m\n",
            "Predict:         yolo predict task=detect model=yolov8n.torchscript imgsz=640 \n",
            "Validate:        yolo val task=detect model=yolov8n.torchscript imgsz=640 data=None \n",
            "Visualize:       https://netron.app\n"
          ]
        }
      ],
      "source": [
        "!yolo export model=yolov8n.pt format=torchscript"
      ]
    }
  ],
  "metadata": {
    "accelerator": "GPU",
    "colab": {
      "provenance": []
    },
    "kernelspec": {
      "display_name": "Python 3",
      "name": "python3"
    },
    "language_info": {
      "codemirror_mode": {
        "name": "ipython",
        "version": 3
      },
      "file_extension": ".py",
      "mimetype": "text/x-python",
      "name": "python",
      "nbconvert_exporter": "python",
      "pygments_lexer": "ipython3",
      "version": "3.11.8"
    }
  },
  "nbformat": 4,
  "nbformat_minor": 0
}
